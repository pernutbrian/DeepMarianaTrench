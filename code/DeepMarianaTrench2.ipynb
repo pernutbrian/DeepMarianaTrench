{
  "cells": [
    {
      "cell_type": "code",
      "execution_count": 1,
      "metadata": {
        "id": "mJCTVg-FoRgF"
      },
      "outputs": [],
      "source": [
        "import os\n",
        "import tensorflow as tf\n",
        "import numpy as np\n",
        "from tensorflow import keras\n",
        "from tensorflow.keras import layers\n",
        "from tensorflow.keras.models import Sequential\n",
        "from tensorflow.keras import regularizers"
      ]
    },
    {
      "cell_type": "code",
      "execution_count": 5,
      "metadata": {
        "colab": {
          "base_uri": "https://localhost:8080/"
        },
        "id": "pO6pq9DuSvtI",
        "outputId": "4905cab8-d748-4948-d74f-3bc5125b00cb"
      },
      "outputs": [
        {
          "output_type": "stream",
          "name": "stdout",
          "text": [
            "Found 10000 files belonging to 10 classes.\n",
            "Using 8000 files for training.\n",
            "Found 10000 files belonging to 10 classes.\n",
            "Using 2000 files for validation.\n"
          ]
        }
      ],
      "source": [
        "#change folder to change the data set\n",
        "#folder = 'animalsPPALL'\n",
        "folder = 'animalsPP1000'\n",
        "# \"/content/drive/My Drive\"\n",
        "train_ds = tf.keras.utils.image_dataset_from_directory(\"/content/drive/My Drive/{}\".format(folder),validation_split=0.2,subset=\"training\",seed=25,image_size=(180, 180),batch_size=16)\n",
        "val_ds = tf.keras.utils.image_dataset_from_directory(\"/content/drive/My Drive/{}\".format(folder),validation_split=0.2,subset=\"validation\",seed=25,image_size=(180, 180),batch_size=16)"
      ]
    },
    {
      "cell_type": "code",
      "execution_count": 6,
      "metadata": {
        "id": "3NSy6oNJSvtJ"
      },
      "outputs": [],
      "source": [
        "AUTOTUNE = tf.data.AUTOTUNE\n",
        "\n",
        "train_ds = train_ds.cache().shuffle(1000).prefetch(buffer_size=AUTOTUNE)\n",
        "val_ds = val_ds.cache().prefetch(buffer_size=AUTOTUNE)"
      ]
    },
    {
      "cell_type": "code",
      "execution_count": null,
      "metadata": {
        "id": "sVy28IBmryCg"
      },
      "outputs": [],
      "source": [
        "reg = regularizers.l2(0.0005)\n",
        "\n",
        "model = Sequential([\n",
        "\n",
        "    layers.RandomFlip('horizontal',input_shape=(180,180,3)),\n",
        "    layers.RandomRotation(0.4),\n",
        "    layers.RandomZoom(0.2),\n",
        "    layers.Conv2D(filters= 32, kernel_size=3, padding='same',activation='relu',kernel_regularizer=reg),\n",
        "    layers.Conv2D(filters= 32, kernel_size=3, padding='same',activation='relu',kernel_regularizer=reg),\n",
        "    layers.MaxPool2D(pool_size=2, strides=2, padding='same'),\n",
        "\n",
        "    layers.Conv2D(filters= 64, kernel_size=3, padding='same',activation='relu',kernel_regularizer=reg),\n",
        "    layers.Conv2D(filters= 64, kernel_size=3, padding='same',activation='relu',kernel_regularizer=reg),\n",
        "    layers.MaxPool2D(pool_size=2, strides=2, padding='same'),\n",
        "\n",
        "    layers.Conv2D(filters= 128, kernel_size=3, padding='same',activation='relu',kernel_regularizer=reg),\n",
        "    layers.Conv2D(filters= 128, kernel_size=3, padding='same',activation='relu',kernel_regularizer=reg),\n",
        "    layers.Conv2D(filters= 128, kernel_size=3, padding='same',activation='relu',kernel_regularizer=reg),\n",
        "    layers.MaxPool2D(pool_size=2, strides=2, padding='same'),\n",
        "\n",
        "    layers.Conv2D(filters= 256, kernel_size=3, padding='same',activation='relu',kernel_regularizer=reg),\n",
        "    layers.Conv2D(filters= 256, kernel_size=3, padding='same',activation='relu',kernel_regularizer=reg),\n",
        "    layers.Conv2D(filters= 256, kernel_size=3, padding='same',activation='relu',kernel_regularizer=reg),\n",
        "    layers.MaxPool2D(pool_size=2, strides=2, padding='same'),\n",
        "    layers.Flatten(),\n",
        "    layers.Dropout(0.2),\n",
        "    layers.Dense(units=512,activation='relu'),\n",
        "    layers.Dense(units=10),\n",
        "    layers.Dropout(0.2),\n",
        "    layers.Dense(units=512,activation='relu'),\n",
        "    layers.Dense(units=10)\n",
        "])\n",
        "\n",
        "model.compile(\n",
        "              optimizer=tf.keras.optimizers.SGD(learning_rate=0.05,momentum=0.03),\n",
        "              loss=tf.keras.losses.SparseCategoricalCrossentropy(from_logits=True),\n",
        "              metrics=['accuracy'])\n",
        "              \n",
        "model.summary()"
      ]
    },
    {
      "cell_type": "code",
      "execution_count": null,
      "metadata": {
        "colab": {
          "base_uri": "https://localhost:8080/"
        },
        "id": "0FTR9HAgRMG3",
        "outputId": "95c789b0-0812-4fab-8e40-848a89bcca73"
      },
      "outputs": [
        {
          "output_type": "stream",
          "name": "stdout",
          "text": [
            "Epoch 1/25\n"
          ]
        }
      ],
      "source": [
        "epochs = 25\n",
        "history = model.fit(\n",
        "  x=train_ds,\n",
        "  validation_data=val_ds,\n",
        "  epochs=epochs,\n",
        "  batch_size=16\n",
        ")\n"
      ]
    },
    {
      "cell_type": "code",
      "execution_count": null,
      "metadata": {
        "id": "iSo7jmG6IL8m"
      },
      "outputs": [],
      "source": [
        "#os.chdir()\n",
        "\n",
        "#model.save('DMT-COLOR-ALLimgs-75e-32_2-64_2-128_3_256_3-512512-w2dropout-21mparameter-REG0_00005-SGD-0_05-MOMENTUM-0.03-batch16-horizontal.h5')\n"
      ]
    }
  ],
  "metadata": {
    "accelerator": "GPU",
    "colab": {
      "collapsed_sections": [],
      "name": "DeepMarianaTrench2.ipynb",
      "provenance": []
    },
    "kernelspec": {
      "display_name": "Python 3",
      "name": "python3"
    },
    "language_info": {
      "codemirror_mode": {
        "name": "ipython",
        "version": 3
      },
      "file_extension": ".py",
      "mimetype": "text/x-python",
      "name": "python",
      "nbconvert_exporter": "python",
      "pygments_lexer": "ipython3",
      "version": "3.8.0"
    }
  },
  "nbformat": 4,
  "nbformat_minor": 0
}
