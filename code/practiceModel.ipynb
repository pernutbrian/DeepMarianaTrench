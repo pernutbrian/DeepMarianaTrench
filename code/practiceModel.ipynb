{
  "nbformat": 4,
  "nbformat_minor": 0,
  "metadata": {
    "colab": {
      "name": "flowerModel.ipynb",
      "provenance": []
    },
    "kernelspec": {
      "name": "python3",
      "display_name": "Python 3"
    },
    "language_info": {
      "name": "python"
    },
    "accelerator": "GPU"
  },
  "cells": [
    {
      "cell_type": "code",
      "execution_count": 1,
      "metadata": {
        "id": "m9Wpt7urpjc2"
      },
      "outputs": [],
      "source": [
        "import matplotlib.pyplot as plt\n",
        "import numpy as np\n",
        "import os\n",
        "import PIL\n",
        "import tensorflow as tf\n",
        "\n",
        "from tensorflow import keras\n",
        "from tensorflow.keras import layers\n",
        "from tensorflow.keras.models import Sequential"
      ]
    },
    {
      "cell_type": "code",
      "source": [
        "import pathlib\n",
        "dataset_url = \"https://storage.googleapis.com/download.tensorflow.org/example_images/flower_photos.tgz\"\n",
        "data_dir = tf.keras.utils.get_file('flower_photos', origin=dataset_url, untar=True)\n",
        "data_dir = pathlib.Path(data_dir)"
      ],
      "metadata": {
        "id": "ugYbxDMRprAO",
        "colab": {
          "base_uri": "https://localhost:8080/"
        },
        "outputId": "d32e8245-9f23-4519-f6b6-889ff6d8ffc3"
      },
      "execution_count": 2,
      "outputs": [
        {
          "output_type": "stream",
          "name": "stdout",
          "text": [
            "Downloading data from https://storage.googleapis.com/download.tensorflow.org/example_images/flower_photos.tgz\n",
            "228818944/228813984 [==============================] - 2s 0us/step\n",
            "228827136/228813984 [==============================] - 2s 0us/step\n"
          ]
        }
      ]
    },
    {
      "cell_type": "code",
      "source": [
        "batch_size = 32\n",
        "img_height = 30\n",
        "img_width = 30\n",
        "#CHANGE THE OUTPUT NEURONS OF MODEL IF YOU CHANGE THIS\n",
        "#data_dir = \"/content/drive/My Drive/animalsPP1000\"\n",
        "train_ds = tf.keras.utils.image_dataset_from_directory(\n",
        "  data_dir,\n",
        "  validation_split=0.2,\n",
        "  subset=\"training\",\n",
        "  seed=123,\n",
        "  color_mode='grayscale',\n",
        "  image_size=(img_height, img_width),\n",
        "  batch_size=batch_size)\n",
        "\n",
        "val_ds = tf.keras.utils.image_dataset_from_directory(\n",
        "  data_dir,\n",
        "  validation_split=0.2,\n",
        "  subset=\"validation\",\n",
        "  seed=123,\n",
        "  color_mode='grayscale',\n",
        "  image_size=(img_height, img_width),\n",
        "  batch_size=batch_size)"
      ],
      "metadata": {
        "colab": {
          "base_uri": "https://localhost:8080/"
        },
        "id": "C4XTjyetpt4I",
        "outputId": "ca862956-4bf5-4ed1-fa43-856bfe731304"
      },
      "execution_count": 3,
      "outputs": [
        {
          "output_type": "stream",
          "name": "stdout",
          "text": [
            "Found 3670 files belonging to 5 classes.\n",
            "Using 2936 files for training.\n",
            "Found 3670 files belonging to 5 classes.\n",
            "Using 734 files for validation.\n"
          ]
        }
      ]
    },
    {
      "cell_type": "code",
      "source": [
        "AUTOTUNE = tf.data.AUTOTUNE\n",
        "\n",
        "train_ds = train_ds.cache().shuffle(1000).prefetch(buffer_size=AUTOTUNE)\n",
        "val_ds = val_ds.cache().prefetch(buffer_size=AUTOTUNE)"
      ],
      "metadata": {
        "id": "PKokDWXRpyj1"
      },
      "execution_count": 4,
      "outputs": []
    },
    {
      "cell_type": "code",
      "source": [
        "model = Sequential([\n",
        "    \n",
        "    layers.RandomFlip('horizontal',input_shape=(30,30,1)),\n",
        "    layers.RandomRotation(0.2),\n",
        "    layers.RandomZoom(0.1),\n",
        "    layers.Conv2D(filters= 32, kernel_size=3, padding='same',activation='relu'),\n",
        "    layers.Conv2D(filters= 32, kernel_size=3, padding='same',activation='relu'),\n",
        "    layers.MaxPool2D(pool_size=2, strides=2, padding='same'),\n",
        "\n",
        "    layers.Conv2D(filters= 64, kernel_size=3, padding='same',activation='relu'),\n",
        "    layers.Conv2D(filters= 64, kernel_size=3, padding='same',activation='relu'),\n",
        "    layers.MaxPool2D(pool_size=2, strides=2, padding='same'),\n",
        "\n",
        "    layers.Conv2D(filters= 128, kernel_size=3, padding='same',activation='relu'),\n",
        "    layers.Conv2D(filters= 128, kernel_size=3, padding='same',activation='relu'),\n",
        "    layers.Conv2D(filters= 128, kernel_size=3, padding='same',activation='relu'),\n",
        "    layers.MaxPool2D(pool_size=2, strides=2, padding='same'),\n",
        "\n",
        "    layers.Flatten(),\n",
        "    #layers.Dense(units=100,activation='relu'),\n",
        "    layers.Dense(units=100,activation='relu'),\n",
        "    layers.Dense(units=10)\n",
        "])\n",
        "\n",
        "model.compile(optimizer='adam',\n",
        "              loss=tf.keras.losses.SparseCategoricalCrossentropy(from_logits=True),\n",
        "              metrics=['accuracy'])\n",
        "\n",
        "model.summary()"
      ],
      "metadata": {
        "id": "wiA173qXp2Ba"
      },
      "execution_count": null,
      "outputs": []
    },
    {
      "cell_type": "code",
      "source": [
        "epochs = 10\n",
        "history = model.fit(\n",
        "  train_ds,\n",
        "  validation_data=val_ds,\n",
        "  epochs=epochs\n",
        ")\n",
        "\n",
        "# os.chdir(\"/content/drive/My Drive\")\n",
        "# model.save('DMT-BW-1000imgs-5e-16163232646464100-3mparameter.h5')"
      ],
      "metadata": {
        "colab": {
          "base_uri": "https://localhost:8080/"
        },
        "id": "puAiAy6yp2ki",
        "outputId": "f8554963-9ead-44ea-d434-2a6e5f1ad434"
      },
      "execution_count": 8,
      "outputs": [
        {
          "output_type": "stream",
          "name": "stdout",
          "text": [
            "Epoch 1/10\n",
            "92/92 [==============================] - 2s 23ms/step - loss: 1.3850 - accuracy: 0.4176 - val_loss: 1.5164 - val_accuracy: 0.3733\n",
            "Epoch 2/10\n",
            "92/92 [==============================] - 2s 22ms/step - loss: 1.3749 - accuracy: 0.4217 - val_loss: 1.4773 - val_accuracy: 0.3678\n",
            "Epoch 3/10\n",
            "92/92 [==============================] - 2s 22ms/step - loss: 1.3620 - accuracy: 0.4240 - val_loss: 1.5257 - val_accuracy: 0.3311\n",
            "Epoch 4/10\n",
            "92/92 [==============================] - 2s 22ms/step - loss: 1.3521 - accuracy: 0.4366 - val_loss: 1.4036 - val_accuracy: 0.3951\n",
            "Epoch 5/10\n",
            "92/92 [==============================] - 2s 22ms/step - loss: 1.3208 - accuracy: 0.4533 - val_loss: 1.4052 - val_accuracy: 0.4046\n",
            "Epoch 6/10\n",
            "92/92 [==============================] - 2s 22ms/step - loss: 1.3048 - accuracy: 0.4619 - val_loss: 1.4118 - val_accuracy: 0.3719\n",
            "Epoch 7/10\n",
            "92/92 [==============================] - 2s 22ms/step - loss: 1.2979 - accuracy: 0.4567 - val_loss: 1.3916 - val_accuracy: 0.3978\n",
            "Epoch 8/10\n",
            "92/92 [==============================] - 2s 22ms/step - loss: 1.2763 - accuracy: 0.4741 - val_loss: 1.4673 - val_accuracy: 0.3638\n",
            "Epoch 9/10\n",
            "92/92 [==============================] - 2s 22ms/step - loss: 1.2868 - accuracy: 0.4687 - val_loss: 1.3839 - val_accuracy: 0.4264\n",
            "Epoch 10/10\n",
            "92/92 [==============================] - 2s 22ms/step - loss: 1.2575 - accuracy: 0.4837 - val_loss: 1.2915 - val_accuracy: 0.4659\n"
          ]
        }
      ]
    },
    {
      "cell_type": "code",
      "source": [
        "#model.save('animals3264128Model.h5')"
      ],
      "metadata": {
        "id": "d1NnZcU82Yg_"
      },
      "execution_count": 7,
      "outputs": []
    }
  ]
}